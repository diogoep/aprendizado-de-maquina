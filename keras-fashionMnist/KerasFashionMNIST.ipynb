{
  "nbformat": 4,
  "nbformat_minor": 0,
  "metadata": {
    "colab": {
      "name": "KerasFashionMNIST.ipynb",
      "provenance": [],
      "collapsed_sections": []
    },
    "kernelspec": {
      "name": "python3",
      "display_name": "Python 3"
    }
  },
  "cells": [
    {
      "cell_type": "code",
      "metadata": {
        "id": "w9RjkRdobngp",
        "colab_type": "code",
        "colab": {}
      },
      "source": [
        "import numpy as np\n",
        "import pandas as pd\n",
        "import keras\n",
        "from keras.datasets import fashion_mnist"
      ],
      "execution_count": 0,
      "outputs": []
    },
    {
      "cell_type": "code",
      "metadata": {
        "id": "m5q1-h35b3YD",
        "colab_type": "code",
        "colab": {}
      },
      "source": [
        "(x_train, y_train), (x_test, y_test) = fashion_mnist.load_data()"
      ],
      "execution_count": 0,
      "outputs": []
    },
    {
      "cell_type": "code",
      "metadata": {
        "id": "YUzZrTQfb5ZW",
        "colab_type": "code",
        "colab": {
          "base_uri": "https://localhost:8080/",
          "height": 34
        },
        "outputId": "e0d7ee66-6d34-4d52-fc6f-6e034c57a3bb"
      },
      "source": [
        "x_train.shape[1:3]"
      ],
      "execution_count": 100,
      "outputs": [
        {
          "output_type": "execute_result",
          "data": {
            "text/plain": [
              "(28, 28)"
            ]
          },
          "metadata": {
            "tags": []
          },
          "execution_count": 100
        }
      ]
    },
    {
      "cell_type": "code",
      "metadata": {
        "id": "O5bo_cFMcb_S",
        "colab_type": "code",
        "colab": {
          "base_uri": "https://localhost:8080/",
          "height": 34
        },
        "outputId": "ad81d3e0-a646-4a89-9536-67ba74bbf6ea"
      },
      "source": [
        "x_test.shape"
      ],
      "execution_count": 101,
      "outputs": [
        {
          "output_type": "execute_result",
          "data": {
            "text/plain": [
              "(10000, 28, 28)"
            ]
          },
          "metadata": {
            "tags": []
          },
          "execution_count": 101
        }
      ]
    },
    {
      "cell_type": "code",
      "metadata": {
        "id": "sAYSzYK2cKrX",
        "colab_type": "code",
        "colab": {
          "base_uri": "https://localhost:8080/",
          "height": 34
        },
        "outputId": "9e709acc-3d5a-486d-8eba-c429b62500e1"
      },
      "source": [
        "y_train.shape[0]"
      ],
      "execution_count": 102,
      "outputs": [
        {
          "output_type": "execute_result",
          "data": {
            "text/plain": [
              "60000"
            ]
          },
          "metadata": {
            "tags": []
          },
          "execution_count": 102
        }
      ]
    },
    {
      "cell_type": "code",
      "metadata": {
        "id": "2ghUl3pVcmGK",
        "colab_type": "code",
        "colab": {}
      },
      "source": [
        "X_test = np.copy(x_test)\n",
        "X_train = np.copy(x_train)\n",
        "Y_test = np.copy(y_test)\n",
        "Y_train = np.copy(y_train)"
      ],
      "execution_count": 0,
      "outputs": []
    },
    {
      "cell_type": "code",
      "metadata": {
        "id": "1hc6gA8NpJh_",
        "colab_type": "code",
        "colab": {}
      },
      "source": [
        "input_dim = X_train.shape[1:3]\n",
        "nb_classes = Y_train.shape[0]"
      ],
      "execution_count": 0,
      "outputs": []
    },
    {
      "cell_type": "code",
      "metadata": {
        "id": "R1YrNprbc4Xh",
        "colab_type": "code",
        "colab": {}
      },
      "source": [
        "model1 = keras.Sequential([\n",
        "    keras.layers.Flatten(input_shape=input_dim),\n",
        "    keras.layers.Dense(128, activation='relu'),\n",
        "    keras.layers.Dense(10, activation='softmax')\n",
        "])"
      ],
      "execution_count": 0,
      "outputs": []
    },
    {
      "cell_type": "code",
      "metadata": {
        "id": "UFEXmMckpNq9",
        "colab_type": "code",
        "colab": {
          "base_uri": "https://localhost:8080/",
          "height": 391
        },
        "outputId": "54d1f767-3106-4375-89ff-3627a0619248"
      },
      "source": [
        "model1.compile(loss='sparse_categorical_crossentropy', optimizer='rmsprop', metrics=['accuracy'])\n",
        "\n",
        "model1.fit(X_train, Y_train, epochs=10, batch_size=16, validation_split=0.1, verbose=2)"
      ],
      "execution_count": 115,
      "outputs": [
        {
          "output_type": "stream",
          "text": [
            "Train on 54000 samples, validate on 6000 samples\n",
            "Epoch 1/10\n",
            " - 10s - loss: 10.0103 - acc: 0.3788 - val_loss: 9.8980 - val_acc: 0.3858\n",
            "Epoch 2/10\n",
            " - 9s - loss: 10.0604 - acc: 0.3757 - val_loss: 9.9239 - val_acc: 0.3842\n",
            "Epoch 3/10\n",
            " - 9s - loss: 10.0451 - acc: 0.3767 - val_loss: 10.0711 - val_acc: 0.3748\n",
            "Epoch 4/10\n",
            " - 9s - loss: 9.9973 - acc: 0.3796 - val_loss: 9.9026 - val_acc: 0.3855\n",
            "Epoch 5/10\n",
            " - 9s - loss: 9.9391 - acc: 0.3833 - val_loss: 9.8977 - val_acc: 0.3858\n",
            "Epoch 6/10\n",
            " - 9s - loss: 9.9316 - acc: 0.3837 - val_loss: 9.9180 - val_acc: 0.3847\n",
            "Epoch 7/10\n",
            " - 9s - loss: 10.0034 - acc: 0.3792 - val_loss: 9.9842 - val_acc: 0.3803\n",
            "Epoch 8/10\n",
            " - 9s - loss: 9.9759 - acc: 0.3810 - val_loss: 10.0349 - val_acc: 0.3772\n",
            "Epoch 9/10\n",
            " - 9s - loss: 9.9596 - acc: 0.3820 - val_loss: 9.8885 - val_acc: 0.3865\n",
            "Epoch 10/10\n",
            " - 9s - loss: 9.9614 - acc: 0.3819 - val_loss: 10.0727 - val_acc: 0.3748\n"
          ],
          "name": "stdout"
        },
        {
          "output_type": "execute_result",
          "data": {
            "text/plain": [
              "<keras.callbacks.History at 0x7f34daae7b38>"
            ]
          },
          "metadata": {
            "tags": []
          },
          "execution_count": 115
        }
      ]
    },
    {
      "cell_type": "code",
      "metadata": {
        "id": "humszGFZpRvv",
        "colab_type": "code",
        "colab": {
          "base_uri": "https://localhost:8080/",
          "height": 51
        },
        "outputId": "7fed65d1-d787-4193-d222-917c698c4a33"
      },
      "source": [
        "preds = model1.predict_classes(X_test, verbose=0)\n",
        "test_loss, test_acc = model1.evaluate(X_test,  y_test, verbose=2)\n",
        "\n",
        "print('\\nTest accuracy:', test_acc)"
      ],
      "execution_count": 120,
      "outputs": [
        {
          "output_type": "stream",
          "text": [
            "\n",
            "Test accuracy: 0.3719\n"
          ],
          "name": "stdout"
        }
      ]
    }
  ]
}